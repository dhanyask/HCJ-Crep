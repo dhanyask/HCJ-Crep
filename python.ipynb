{
  "cells": [
    {
      "cell_type": "markdown",
      "metadata": {
        "id": "view-in-github",
        "colab_type": "text"
      },
      "source": [
        "<a href=\"https://colab.research.google.com/github/dhanyask/HCJ-Crep/blob/main/python.ipynb\" target=\"_parent\"><img src=\"https://colab.research.google.com/assets/colab-badge.svg\" alt=\"Open In Colab\"/></a>"
      ]
    },
    {
      "cell_type": "code",
      "execution_count": 44,
      "id": "554d6e0d",
      "metadata": {
        "id": "554d6e0d",
        "outputId": "00ba5ccc-e89f-4ec5-e77a-800b657b45b3",
        "colab": {
          "base_uri": "https://localhost:8080/"
        }
      },
      "outputs": [
        {
          "output_type": "stream",
          "name": "stdout",
          "text": [
            "Twinkle, twinkle, little star,\n",
            "How I wonder what you are!\n",
            "Up above the world so high,\n",
            "Like a diamond in the sky.\n",
            "Twinkle, twinkle, little star,\n",
            "How I wonder what you are\n"
          ]
        }
      ],
      "source": [
        "print(\"Twinkle, twinkle, little star,\\nHow I wonder what you are!\\nUp above the world so high,\\nLike a diamond in the sky.\\nTwinkle, twinkle, little star,\\nHow I wonder what you are\")"
      ]
    },
    {
      "cell_type": "code",
      "execution_count": null,
      "id": "8fab61ad",
      "metadata": {
        "colab": {
          "base_uri": "https://localhost:8080/",
          "height": 36
        },
        "id": "8fab61ad",
        "outputId": "75588945-9c17-44ba-b7ec-105d93184a3e"
      },
      "outputs": [
        {
          "output_type": "execute_result",
          "data": {
            "text/plain": [
              "'My**Name**is**Dhanya**S'"
            ],
            "application/vnd.google.colaboratory.intrinsic+json": {
              "type": "string"
            }
          },
          "metadata": {},
          "execution_count": 46
        }
      ],
      "source": [
        "s = \"My Name is Dhanya S\"\n",
        "s.replace(\" \",\"**\")"
      ]
    },
    {
      "cell_type": "code",
      "execution_count": null,
      "id": "2bf70390",
      "metadata": {
        "colab": {
          "base_uri": "https://localhost:8080/"
        },
        "id": "2bf70390",
        "outputId": "4c2d3343-e189-4967-f2de-48a906d0cab8"
      },
      "outputs": [
        {
          "output_type": "stream",
          "name": "stdout",
          "text": [
            "Python course for \"beginners\"\n"
          ]
        }
      ],
      "source": [
        "print(\"Python course for \\\"beginners\\\"\")"
      ]
    },
    {
      "cell_type": "code",
      "execution_count": null,
      "id": "b32d2c2f",
      "metadata": {
        "colab": {
          "base_uri": "https://localhost:8080/"
        },
        "id": "b32d2c2f",
        "outputId": "5070966a-19e5-414e-cd6f-2f21936348f6"
      },
      "outputs": [
        {
          "name": "stdout",
          "output_type": "stream",
          "text": [
            "Enter 3 strings seperated by spacedhanya S here\n"
          ]
        }
      ],
      "source": [
        "a, b, c = input(\"Enter 3 strings seperated by space\").split(\" \")"
      ]
    },
    {
      "cell_type": "code",
      "execution_count": null,
      "id": "7f5a07a0",
      "metadata": {
        "colab": {
          "base_uri": "https://localhost:8080/"
        },
        "id": "7f5a07a0",
        "outputId": "be23cb51-97e5-4fdf-9146-554f0dd76801"
      },
      "outputs": [
        {
          "output_type": "stream",
          "name": "stdout",
          "text": [
            "dhanya\n"
          ]
        }
      ],
      "source": [
        "print(a)"
      ]
    },
    {
      "cell_type": "code",
      "execution_count": null,
      "id": "0c48ed8d",
      "metadata": {
        "colab": {
          "base_uri": "https://localhost:8080/"
        },
        "id": "0c48ed8d",
        "outputId": "86136cae-e2ab-4f01-8cbf-1c8dd7fac9bc"
      },
      "outputs": [
        {
          "output_type": "stream",
          "name": "stdout",
          "text": [
            "S\n"
          ]
        }
      ],
      "source": [
        "print(b)"
      ]
    },
    {
      "cell_type": "code",
      "execution_count": null,
      "id": "7c3ced6a",
      "metadata": {
        "colab": {
          "base_uri": "https://localhost:8080/"
        },
        "id": "7c3ced6a",
        "outputId": "a2e2236b-0cf4-4cdb-c746-f427f1bf5c91"
      },
      "outputs": [
        {
          "output_type": "stream",
          "name": "stdout",
          "text": [
            "here\n"
          ]
        }
      ],
      "source": [
        "print(c)"
      ]
    },
    {
      "cell_type": "code",
      "execution_count": null,
      "id": "48adefd5",
      "metadata": {
        "colab": {
          "base_uri": "https://localhost:8080/"
        },
        "id": "48adefd5",
        "outputId": "170e2bef-51eb-4cf3-d2e9-1f5472aa3c1f"
      },
      "outputs": [
        {
          "output_type": "stream",
          "name": "stdout",
          "text": [
            "Area of a Cirle \n",
            "Enter radius5\n",
            "Area = 78.53981633974483\n"
          ]
        }
      ],
      "source": [
        "import math\n",
        "print(\"Area of a Cirle \")\n",
        "a = float(input(\"Enter radius\"))\n",
        "area = math.pi*a*a\n",
        "print(\"Area = \" + str(area))"
      ]
    },
    {
      "cell_type": "code",
      "execution_count": null,
      "id": "2938f788",
      "metadata": {
        "colab": {
          "base_uri": "https://localhost:8080/"
        },
        "id": "2938f788",
        "outputId": "92dd6cd3-be2c-465a-99f8-39eaa66cd380"
      },
      "outputs": [
        {
          "output_type": "stream",
          "name": "stdout",
          "text": [
            "Enter your first namedhanya\n",
            "Enter your last namess\n",
            "Hi dhanya ss\n"
          ]
        }
      ],
      "source": [
        "a = input(\"Enter your first name\")\n",
        "b = input(\"Enter your last name\")\n",
        "print(\"Hi \" + a +\" \"+ b)"
      ]
    },
    {
      "cell_type": "code",
      "execution_count": null,
      "id": "17135bd0",
      "metadata": {
        "id": "17135bd0",
        "outputId": "a4eb0a3c-8621-4a21-eb44-c8c2b6a1ab8c",
        "colab": {
          "base_uri": "https://localhost:8080/"
        }
      },
      "outputs": [
        {
          "output_type": "stream",
          "name": "stdout",
          "text": [
            "Enter the numbers: \n"
          ]
        }
      ],
      "source": [
        "print(\"Enter the numbers: \")\n",
        "\n",
        "l1 = list(map(int, input().split()))\n",
        "\n",
        "t1 = tuple(l1)\n",
        "\n",
        "print(l1)\n",
        "print(t1)"
      ]
    },
    {
      "cell_type": "code",
      "execution_count": null,
      "id": "a4a65d00",
      "metadata": {
        "colab": {
          "base_uri": "https://localhost:8080/"
        },
        "id": "a4a65d00",
        "outputId": "41d06148-9423-4dc5-c381-eff4dfd7b248"
      },
      "outputs": [
        {
          "output_type": "stream",
          "name": "stdout",
          "text": [
            "Enter File Namedhanya.js\n",
            "js\n"
          ]
        }
      ],
      "source": [
        "s = list(map(str, input(\"Enter File Name\").split(\".\")))[-1]\n",
        "print(s)"
      ]
    },
    {
      "cell_type": "code",
      "execution_count": null,
      "id": "b23b0446",
      "metadata": {
        "colab": {
          "base_uri": "https://localhost:8080/"
        },
        "id": "b23b0446",
        "outputId": "f9d3f5d7-238e-47ed-cd09-c3338c2eb52d"
      },
      "outputs": [
        {
          "output_type": "stream",
          "name": "stdout",
          "text": [
            "Red and Black\n"
          ]
        }
      ],
      "source": [
        "color_list = [\"Red\",\"Green\",\"White\" ,\"Black\"]\n",
        "print(color_list[0] +\" and \"+ color_list[-1])"
      ]
    },
    {
      "cell_type": "code",
      "execution_count": null,
      "id": "2ad5ece7",
      "metadata": {
        "id": "2ad5ece7"
      },
      "outputs": [],
      "source": [
        "import datetime as d\n",
        "e = (11, 12, 2014)\n",
        "d = d.datetime(day = e[0], month = e[1], year = e[2])\n",
        "print(\"The examination will start from :\" + str(d))"
      ]
    },
    {
      "cell_type": "code",
      "execution_count": null,
      "id": "ba8e8e21",
      "metadata": {
        "id": "ba8e8e21"
      },
      "outputs": [],
      "source": [
        "a = int(input(\"Enter a no.\"))\n",
        "b = a + (10*a+a) + (100*a + 10*a +a)\n",
        "print(b)"
      ]
    },
    {
      "cell_type": "code",
      "execution_count": null,
      "id": "138166ea",
      "metadata": {
        "id": "138166ea",
        "outputId": "163e509c-fc80-4634-8cde-84a1079c8f64"
      },
      "outputs": [
        {
          "name": "stdout",
          "output_type": "stream",
          "text": [
            "Enter a no.5\n",
            "615\n"
          ]
        }
      ],
      "source": [
        "a = int(input(\"Enter a no.\"))\n",
        "b=0\n",
        "c=a\n",
        "for i in range (3):\n",
        "    b = b + c\n",
        "    c = c*10 + a\n",
        "print(b)"
      ]
    },
    {
      "cell_type": "code",
      "execution_count": null,
      "id": "426f7fd2",
      "metadata": {
        "id": "426f7fd2",
        "outputId": "47b50e4f-80d0-486e-e8a4-be2ff3ddc2a3"
      },
      "outputs": [
        {
          "name": "stdout",
          "output_type": "stream",
          "text": [
            "Enter 3 no.\n",
            "10\n",
            "4\n",
            "5\n",
            "Numbers in sorted order:  4 5 10\n"
          ]
        }
      ],
      "source": [
        "#a, b, c = input().split(\" \")\n",
        "print(\"Enter 3 no.\")\n",
        "a = int(input())\n",
        "b = int(input())\n",
        "c= int(input())\n",
        "\n",
        "a1 = min(a, b, c)\n",
        "a3 = max(a, b, c)\n",
        "a2 = (a + b + c) - a1 - a3\n",
        "print(\"Numbers in sorted order: \", a1, a2, a3)"
      ]
    },
    {
      "cell_type": "code",
      "execution_count": null,
      "id": "86f270fa",
      "metadata": {
        "id": "86f270fa",
        "outputId": "8a4f3619-1c79-48c4-c2f5-c83cf2dbf1ae"
      },
      "outputs": [
        {
          "name": "stdout",
          "output_type": "stream",
          "text": [
            "Enter Amount10000\n",
            "Enter rate of interest3.5\n",
            "Enter Years7\n",
            "12722.79\n"
          ]
        }
      ],
      "source": [
        "a = float(input(\"Enter Amount\"))\n",
        "b = float(input(\"Enter rate of interest\"))\n",
        "c = float(input(\"Enter Years\"))\n",
        "\n",
        "d = round(a*(1 + b/100)**c, 2)\n",
        "print(d)"
      ]
    },
    {
      "cell_type": "code",
      "execution_count": null,
      "id": "3409dbb5",
      "metadata": {
        "colab": {
          "base_uri": "https://localhost:8080/"
        },
        "id": "3409dbb5",
        "outputId": "43d2bcb5-ec8e-4064-fdaf-284daf15cf9b"
      },
      "outputs": [
        {
          "output_type": "stream",
          "name": "stdout",
          "text": [
            "Input your height: \n",
            "Feet: 3\n",
            "Inches: 10\n",
            "Your height is : 116.84\n"
          ]
        }
      ],
      "source": [
        "print(\"Input your height: \")\n",
        "ft = int(input(\"Feet: \"))\n",
        "ih = int(input(\"Inches: \"))\n",
        "\n",
        "ih += ft * 12\n",
        "hcm = round(ih * 2.54, 2)\n",
        "\n",
        "print(\"Your height is :\" ,hcm)"
      ]
    },
    {
      "cell_type": "markdown",
      "source": [
        "Assignment 2"
      ],
      "metadata": {
        "id": "r0xFL7fBTvEE"
      },
      "id": "r0xFL7fBTvEE"
    },
    {
      "cell_type": "code",
      "execution_count": null,
      "id": "4500153a",
      "metadata": {
        "colab": {
          "base_uri": "https://localhost:8080/"
        },
        "id": "4500153a",
        "outputId": "eb521659-f435-4a29-eff5-ca8390b76edb"
      },
      "outputs": [
        {
          "output_type": "stream",
          "name": "stdout",
          "text": [
            "\n",
            "1\n",
            "22\n",
            "333\n",
            "4444\n",
            "55555\n"
          ]
        }
      ],
      "source": [
        "for i in range(6):\n",
        " for j in range(i):\n",
        "  print(i, end = \"\")\n",
        " print()"
      ]
    },
    {
      "cell_type": "code",
      "source": [
        "a,b,c = map(int, input(\"Enter 3 sides\").split())\n",
        "if a==b or a==c:\n",
        " if a==b and a==c:print(\"Equilateral\")\n",
        " else: print(\"Isosceles\")\n",
        "elif b==c:print(\"Isosceles\")\n",
        "else: print(\"Scalene\")"
      ],
      "metadata": {
        "colab": {
          "base_uri": "https://localhost:8080/"
        },
        "id": "RyfPYmqsUFgC",
        "outputId": "fa95ff79-95f5-47e2-f1eb-de9f0d0a6262"
      },
      "id": "RyfPYmqsUFgC",
      "execution_count": null,
      "outputs": [
        {
          "output_type": "stream",
          "name": "stdout",
          "text": [
            "Enter 3 sides3 3 3\n",
            "Equilateral\n"
          ]
        }
      ]
    },
    {
      "cell_type": "code",
      "source": [
        "import datetime\n",
        "from datetime import timedelta\n",
        "d=int(input(\"ENTER THE DAY : \"))\n",
        "m=int(input(\"ENTER THE MONTH : \"))\n",
        "y=int(input(\"ENTER THE YEAR : \"))\n",
        " \n",
        "gDate = datetime.datetime(y, m, d)\n",
        "print(\"Given date is: \", gDate)\n",
        " \n",
        "# Next date \n",
        "t = gDate + timedelta(days = 1)\n",
        "print(\"Next date will be : \", t)"
      ],
      "metadata": {
        "colab": {
          "base_uri": "https://localhost:8080/"
        },
        "id": "eppOLSz1ULBr",
        "outputId": "631961c1-5680-4a32-ffbf-0e6218413318"
      },
      "id": "eppOLSz1ULBr",
      "execution_count": null,
      "outputs": [
        {
          "output_type": "stream",
          "name": "stdout",
          "text": [
            "ENTER THE DAY : 7\n",
            "ENTER THE MONTH : 5\n",
            "ENTER THE YEAR : 2005\n",
            "Given date is:  2005-05-07 00:00:00\n",
            "Next date will be :  2005-05-08 00:00:00\n"
          ]
        }
      ]
    },
    {
      "cell_type": "code",
      "source": [
        "s = input(\"Input a string\") \n",
        "d=l=0\n",
        "for c in s:\n",
        " if c.isdigit():\n",
        "  d=d+1\n",
        " elif c.isalpha(): \n",
        "  l=l+1\n",
        " else:\n",
        "  pass\n",
        "print(\"Letters\", l)\n",
        "print(\"Digits\", d)"
      ],
      "metadata": {
        "colab": {
          "base_uri": "https://localhost:8080/"
        },
        "id": "ek7KNJK4UO9u",
        "outputId": "84f87c0f-7228-446f-9131-917a83319aa5"
      },
      "id": "ek7KNJK4UO9u",
      "execution_count": null,
      "outputs": [
        {
          "output_type": "stream",
          "name": "stdout",
          "text": [
            "Input a stringHi I am Dhanya\n",
            "Letters 11\n",
            "Digits 0\n"
          ]
        }
      ]
    },
    {
      "cell_type": "code",
      "source": [
        "s = input(\"Input a alphabet\").lower()\n",
        "if s in (\"a\", \"e\", \"i\", \"o\", \"u\"):\n",
        " print(\"Vowel\")\n",
        "else:print(\"Consonant\")"
      ],
      "metadata": {
        "colab": {
          "base_uri": "https://localhost:8080/"
        },
        "id": "AwXXQRsJUW_S",
        "outputId": "8fe6c056-a48b-41c2-bbc1-4a126a0ea915"
      },
      "id": "AwXXQRsJUW_S",
      "execution_count": null,
      "outputs": [
        {
          "output_type": "stream",
          "name": "stdout",
          "text": [
            "Input a alphabetd\n",
            "Consonant\n"
          ]
        }
      ]
    },
    {
      "cell_type": "code",
      "source": [
        "t1 = int(input(\"Enter temperature\"))\n",
        "c = input(\"Enter Unit (c or f)\")\n",
        "if (c == \"c\"):\n",
        " print(\"Temp : {} degree celsius and {} degree fahrenheit \".format(t1, round(1.8*t1+32)))\n",
        "else:\n",
        " print(\"Temp : {} degree celsius and {} degree fahrenheit \".format(round(5*(t1-32)/9), t1))"
      ],
      "metadata": {
        "colab": {
          "base_uri": "https://localhost:8080/"
        },
        "id": "bQskorrDU40w",
        "outputId": "52f28a3e-84a4-48e3-ff97-b4f12f0dcfd7"
      },
      "id": "bQskorrDU40w",
      "execution_count": null,
      "outputs": [
        {
          "output_type": "stream",
          "name": "stdout",
          "text": [
            "Enter temperature105\n",
            "Enter Unit (c or f)c\n",
            "Temp : 105 degree celsius and 221 degree fahrenheit \n"
          ]
        }
      ]
    },
    {
      "cell_type": "code",
      "source": [
        "for i in range(6):\n",
        " for j in range(i):\n",
        "  print(\"*\", end = \"\")\n",
        " print()\n",
        "for i in range(i-1, 0, -1):\n",
        " for j in range(i):\n",
        "   print(\"*\", end = \"\")\n",
        " print()"
      ],
      "metadata": {
        "colab": {
          "base_uri": "https://localhost:8080/"
        },
        "id": "wGjwiSa4U_u3",
        "outputId": "832abec6-037e-4429-a9bd-5fb91d96b770"
      },
      "id": "wGjwiSa4U_u3",
      "execution_count": null,
      "outputs": [
        {
          "output_type": "stream",
          "name": "stdout",
          "text": [
            "\n",
            "*\n",
            "**\n",
            "***\n",
            "****\n",
            "*****\n",
            "****\n",
            "***\n",
            "**\n",
            "*\n"
          ]
        }
      ]
    },
    {
      "cell_type": "code",
      "source": [
        "for i in range(5, 0, -1):\n",
        " for j in range(i):\n",
        "  print(\"*\", end = \"\")\n",
        " print()"
      ],
      "metadata": {
        "colab": {
          "base_uri": "https://localhost:8080/"
        },
        "id": "F0nYVrckVDuW",
        "outputId": "e84218fc-7131-41b5-d8e2-dd0ebc146aab"
      },
      "id": "F0nYVrckVDuW",
      "execution_count": null,
      "outputs": [
        {
          "output_type": "stream",
          "name": "stdout",
          "text": [
            "*****\n",
            "****\n",
            "***\n",
            "**\n",
            "*\n"
          ]
        }
      ]
    },
    {
      "cell_type": "code",
      "source": [
        "a = list(map(int, input(\"Enter Numbers\").split()))\n",
        "o=e=0\n",
        "for i in a:\n",
        " if(i%2 == 0):e=e+1\n",
        " else:o=o+1\n",
        "print(\"Even: {}\\nOdd: {}\".format(e,o))"
      ],
      "metadata": {
        "colab": {
          "base_uri": "https://localhost:8080/"
        },
        "id": "YYm61-y4VH79",
        "outputId": "f268b6f7-3c2a-4abb-ecd8-3b44dc01cf21"
      },
      "id": "YYm61-y4VH79",
      "execution_count": null,
      "outputs": [
        {
          "output_type": "stream",
          "name": "stdout",
          "text": [
            "Enter Numbers1 3 7 4 9 4 2 6 3\n",
            "Even: 4\n",
            "Odd: 5\n"
          ]
        }
      ]
    },
    {
      "cell_type": "code",
      "source": [
        "a, b, c = map(int, input(\"Enter 3 numbers \").split())\n",
        "sum =0\n",
        "if (a==b or b==c or a==c):\n",
        " print(sum)\n",
        "else:print(a+b+c)"
      ],
      "metadata": {
        "colab": {
          "base_uri": "https://localhost:8080/"
        },
        "id": "o050AD7iVMH_",
        "outputId": "cb8426b7-e612-44f2-8b60-7d12b584c4cc"
      },
      "id": "o050AD7iVMH_",
      "execution_count": null,
      "outputs": [
        {
          "output_type": "stream",
          "name": "stdout",
          "text": [
            "Enter 3 numbers 4 5 3\n",
            "12\n"
          ]
        }
      ]
    },
    {
      "cell_type": "code",
      "source": [
        "a = int(input(\"Enter Income \"))\n",
        "ans = 0\n",
        "if a<10000:\n",
        " ans =0\n",
        "if a>10000 and a<20000:\n",
        " ans = (a-10000) * 0.1\n",
        "if a>=20000:\n",
        " ans = 1000 + (a - 20000)*0.2\n",
        " \n",
        "print(\"Tax = \"+ str(ans))"
      ],
      "metadata": {
        "colab": {
          "base_uri": "https://localhost:8080/"
        },
        "id": "huvJajEuVRY6",
        "outputId": "d1929536-b0c9-4312-a5ab-ee03dc45fe67"
      },
      "id": "huvJajEuVRY6",
      "execution_count": null,
      "outputs": [
        {
          "output_type": "stream",
          "name": "stdout",
          "text": [
            "Enter Income 450000\n",
            "Tax = 87000.0\n"
          ]
        }
      ]
    },
    {
      "cell_type": "code",
      "source": [
        "a = int(input(\"Enter a Number \"))\n",
        "b= []\n",
        "while(a>0):\n",
        " b.append(a%10)\n",
        " a = a//10\n",
        "print(b)"
      ],
      "metadata": {
        "colab": {
          "base_uri": "https://localhost:8080/"
        },
        "id": "nkinNJSGVUec",
        "outputId": "05206c60-6553-404c-ea98-f9ba93dcc7fe"
      },
      "id": "nkinNJSGVUec",
      "execution_count": null,
      "outputs": [
        {
          "output_type": "stream",
          "name": "stdout",
          "text": [
            "Enter a Number 7\n",
            "[7]\n"
          ]
        }
      ]
    },
    {
      "cell_type": "code",
      "source": [
        "a, b = map(int,input(\"Enter a lower and upper limit \").split())\n",
        "m = 0\n",
        "n = 1\n",
        "while(m<b):\n",
        " if m<a:pass\n",
        " print(m, end=\" \")\n",
        " d = m+n\n",
        " m = n\n",
        " n = d"
      ],
      "metadata": {
        "colab": {
          "base_uri": "https://localhost:8080/"
        },
        "id": "20klM6cKVXVp",
        "outputId": "62b6d500-a788-41ae-a6d6-8169dbc2f453"
      },
      "id": "20klM6cKVXVp",
      "execution_count": null,
      "outputs": [
        {
          "output_type": "stream",
          "name": "stdout",
          "text": [
            "Enter a lower and upper limit 3 17\n",
            "0 1 1 2 3 5 8 13 "
          ]
        }
      ]
    },
    {
      "cell_type": "code",
      "source": [
        "a,b = map(int, input(\"Enter numbers for multiplication\").split())\n",
        "c = min(a,b)\n",
        "d = max(a,b)\n",
        "an =0\n",
        "print(\"{} * {} = \".format(c,d), end = \"\")\n",
        "for i in range(c+1):\n",
        " if i ==c:print(d)\n",
        " else: print(\"{} + \".format(d),end=\"\")\n",
        " an = an + d\n",
        "print(an)"
      ],
      "metadata": {
        "colab": {
          "base_uri": "https://localhost:8080/"
        },
        "id": "-T_KaS7eVana",
        "outputId": "37f5e3d2-c3f0-410c-9ab0-e163577c3af0"
      },
      "id": "-T_KaS7eVana",
      "execution_count": null,
      "outputs": [
        {
          "output_type": "stream",
          "name": "stdout",
          "text": [
            "Enter numbers for multiplication5 8\n",
            "5 * 8 = 8 + 8 + 8 + 8 + 8 + 8\n",
            "48\n"
          ]
        }
      ]
    },
    {
      "cell_type": "code",
      "source": [
        "for i in range(1,11):\n",
        " for j in range(1,11):\n",
        "   print(\"{} * {} = {}\".format(i,j,i*j))\n",
        " \n",
        " print(\"\\n\\n\")"
      ],
      "metadata": {
        "colab": {
          "base_uri": "https://localhost:8080/"
        },
        "id": "bcrK9ueqVim_",
        "outputId": "eb4eae5c-a98b-4e97-ab2d-f7e6353d6955"
      },
      "id": "bcrK9ueqVim_",
      "execution_count": null,
      "outputs": [
        {
          "output_type": "stream",
          "name": "stdout",
          "text": [
            "1 * 1 = 1\n",
            "1 * 2 = 2\n",
            "1 * 3 = 3\n",
            "1 * 4 = 4\n",
            "1 * 5 = 5\n",
            "1 * 6 = 6\n",
            "1 * 7 = 7\n",
            "1 * 8 = 8\n",
            "1 * 9 = 9\n",
            "1 * 10 = 10\n",
            "\n",
            "\n",
            "\n",
            "2 * 1 = 2\n",
            "2 * 2 = 4\n",
            "2 * 3 = 6\n",
            "2 * 4 = 8\n",
            "2 * 5 = 10\n",
            "2 * 6 = 12\n",
            "2 * 7 = 14\n",
            "2 * 8 = 16\n",
            "2 * 9 = 18\n",
            "2 * 10 = 20\n",
            "\n",
            "\n",
            "\n",
            "3 * 1 = 3\n",
            "3 * 2 = 6\n",
            "3 * 3 = 9\n",
            "3 * 4 = 12\n",
            "3 * 5 = 15\n",
            "3 * 6 = 18\n",
            "3 * 7 = 21\n",
            "3 * 8 = 24\n",
            "3 * 9 = 27\n",
            "3 * 10 = 30\n",
            "\n",
            "\n",
            "\n",
            "4 * 1 = 4\n",
            "4 * 2 = 8\n",
            "4 * 3 = 12\n",
            "4 * 4 = 16\n",
            "4 * 5 = 20\n",
            "4 * 6 = 24\n",
            "4 * 7 = 28\n",
            "4 * 8 = 32\n",
            "4 * 9 = 36\n",
            "4 * 10 = 40\n",
            "\n",
            "\n",
            "\n",
            "5 * 1 = 5\n",
            "5 * 2 = 10\n",
            "5 * 3 = 15\n",
            "5 * 4 = 20\n",
            "5 * 5 = 25\n",
            "5 * 6 = 30\n",
            "5 * 7 = 35\n",
            "5 * 8 = 40\n",
            "5 * 9 = 45\n",
            "5 * 10 = 50\n",
            "\n",
            "\n",
            "\n",
            "6 * 1 = 6\n",
            "6 * 2 = 12\n",
            "6 * 3 = 18\n",
            "6 * 4 = 24\n",
            "6 * 5 = 30\n",
            "6 * 6 = 36\n",
            "6 * 7 = 42\n",
            "6 * 8 = 48\n",
            "6 * 9 = 54\n",
            "6 * 10 = 60\n",
            "\n",
            "\n",
            "\n",
            "7 * 1 = 7\n",
            "7 * 2 = 14\n",
            "7 * 3 = 21\n",
            "7 * 4 = 28\n",
            "7 * 5 = 35\n",
            "7 * 6 = 42\n",
            "7 * 7 = 49\n",
            "7 * 8 = 56\n",
            "7 * 9 = 63\n",
            "7 * 10 = 70\n",
            "\n",
            "\n",
            "\n",
            "8 * 1 = 8\n",
            "8 * 2 = 16\n",
            "8 * 3 = 24\n",
            "8 * 4 = 32\n",
            "8 * 5 = 40\n",
            "8 * 6 = 48\n",
            "8 * 7 = 56\n",
            "8 * 8 = 64\n",
            "8 * 9 = 72\n",
            "8 * 10 = 80\n",
            "\n",
            "\n",
            "\n",
            "9 * 1 = 9\n",
            "9 * 2 = 18\n",
            "9 * 3 = 27\n",
            "9 * 4 = 36\n",
            "9 * 5 = 45\n",
            "9 * 6 = 54\n",
            "9 * 7 = 63\n",
            "9 * 8 = 72\n",
            "9 * 9 = 81\n",
            "9 * 10 = 90\n",
            "\n",
            "\n",
            "\n",
            "10 * 1 = 10\n",
            "10 * 2 = 20\n",
            "10 * 3 = 30\n",
            "10 * 4 = 40\n",
            "10 * 5 = 50\n",
            "10 * 6 = 60\n",
            "10 * 7 = 70\n",
            "10 * 8 = 80\n",
            "10 * 9 = 90\n",
            "10 * 10 = 100\n",
            "\n",
            "\n",
            "\n"
          ]
        }
      ]
    },
    {
      "cell_type": "code",
      "source": [
        "a = input(\"Enter a String \").lower()\n",
        "b = a[::-1]\n",
        "if(a == b):print(\"Palindrome\")\n",
        "else: print(\"Not a palindrome\")"
      ],
      "metadata": {
        "colab": {
          "base_uri": "https://localhost:8080/"
        },
        "id": "Pd_3Z_uyWUqQ",
        "outputId": "871371a9-9c61-40ba-8576-2277795bf973"
      },
      "id": "Pd_3Z_uyWUqQ",
      "execution_count": null,
      "outputs": [
        {
          "output_type": "stream",
          "name": "stdout",
          "text": [
            "Enter a String dhanya\n",
            "Not a palindrome\n"
          ]
        }
      ]
    },
    {
      "cell_type": "code",
      "source": [
        "import random\n",
        "r = int(random.randint(1, 10))\n",
        "i=0\n",
        "while(i<3):\n",
        " r1 = int(input(\"Guess the correct number (1 to 10)\"))\n",
        " if(r1>r):print(\"Guess Lower\")\n",
        " elif(r1<r):print(\"Guess Higher\")\n",
        " else:print(\"Correct\")\n",
        " i=i+1"
      ],
      "metadata": {
        "colab": {
          "base_uri": "https://localhost:8080/"
        },
        "id": "JXiIT-vzWZb1",
        "outputId": "d34a1d64-25f1-4f6d-adf6-e991aeef04b4"
      },
      "id": "JXiIT-vzWZb1",
      "execution_count": null,
      "outputs": [
        {
          "output_type": "stream",
          "name": "stdout",
          "text": [
            "Guess the correct number (1 to 10)6\n",
            "Guess Higher\n",
            "Guess the correct number (1 to 10)8\n",
            "Guess Lower\n",
            "Guess the correct number (1 to 10)7\n",
            "Correct\n"
          ]
        }
      ]
    },
    {
      "cell_type": "code",
      "source": [
        "list1 = [10, 20, 23, 11, 17]\n",
        "list2 = [13, 43, 24, 36, 12]\n",
        "ans = []\n",
        "for i in list1:\n",
        " if i%2 != 0:ans.append(i)\n",
        " \n",
        "for i in list2:\n",
        " if i%2 == 0:ans.append(i)\n",
        "print(ans)"
      ],
      "metadata": {
        "colab": {
          "base_uri": "https://localhost:8080/"
        },
        "id": "p3LEFc4TWgOc",
        "outputId": "684e8ab3-5c09-482a-8610-026f2531994f"
      },
      "id": "p3LEFc4TWgOc",
      "execution_count": null,
      "outputs": [
        {
          "output_type": "stream",
          "name": "stdout",
          "text": [
            "[23, 11, 17, 24, 36, 12]\n"
          ]
        }
      ]
    },
    {
      "cell_type": "code",
      "source": [
        "numbers = [386, 462, 47, 418, 907, 344, 236, 375, 823, 566, 597, 978, 328, 615, 953, 345,399, 1]\n",
        "for i in numbers:\n",
        " if(i == 237):break\n",
        " elif(i%2==0):print(i, end=\" \")"
      ],
      "metadata": {
        "colab": {
          "base_uri": "https://localhost:8080/"
        },
        "id": "nnY87s8uWmmz",
        "outputId": "ca0c1a29-b16b-49c5-96b5-3a1d582609cc"
      },
      "id": "nnY87s8uWmmz",
      "execution_count": null,
      "outputs": [
        {
          "output_type": "stream",
          "name": "stdout",
          "text": [
            "386 462 418 344 236 566 978 328 "
          ]
        }
      ]
    },
    {
      "cell_type": "code",
      "source": [
        "a = input(\"Enter a string\")\n",
        "wl = a.split()\n",
        "wf = [wl.count(n) for n in wl]\n",
        "print(\"List:\\n {} \\n\".format(str(wl)))\n",
        "print(\"Pairs (Words and Frequencies:\\n {}\".format(str(list(zip(wl, wf)))))"
      ],
      "metadata": {
        "colab": {
          "base_uri": "https://localhost:8080/"
        },
        "id": "QnQobd8JWphO",
        "outputId": "18648e38-0a9d-46b5-f1a4-66f18fb16528"
      },
      "id": "QnQobd8JWphO",
      "execution_count": null,
      "outputs": [
        {
          "output_type": "stream",
          "name": "stdout",
          "text": [
            "Enter a stringdhanya\n",
            "List:\n",
            " ['dhanya'] \n",
            "\n",
            "Pairs (Words and Frequencies:\n",
            " [('dhanya', 1)]\n"
          ]
        }
      ]
    },
    {
      "cell_type": "code",
      "source": [
        "list1 = [12, 15, 32, 42, 55, 75, 122, 132, 150, 180, 200]\n",
        "for i in list1:\n",
        " if(i>150):break\n",
        " if(i%5 == 0):print(i)"
      ],
      "metadata": {
        "colab": {
          "base_uri": "https://localhost:8080/"
        },
        "id": "C8NS_FgOW5EZ",
        "outputId": "fede2778-93bf-4d47-bb70-8d566aa74550"
      },
      "id": "C8NS_FgOW5EZ",
      "execution_count": null,
      "outputs": [
        {
          "output_type": "stream",
          "name": "stdout",
          "text": [
            "15\n",
            "55\n",
            "75\n",
            "150\n"
          ]
        }
      ]
    },
    {
      "cell_type": "code",
      "source": [
        "list1 = [12, 15, 32, 42, 55, 75, 122, 132, 150, 180, 200]\n",
        "for i in list1:\n",
        " if(i>150):break\n",
        " if(i%5 == 0):print(i)"
      ],
      "metadata": {
        "colab": {
          "base_uri": "https://localhost:8080/"
        },
        "id": "1USQPuirW8YG",
        "outputId": "09134340-ed70-4935-89c9-35b28daa52b5"
      },
      "id": "1USQPuirW8YG",
      "execution_count": null,
      "outputs": [
        {
          "output_type": "stream",
          "name": "stdout",
          "text": [
            "15\n",
            "55\n",
            "75\n",
            "150\n"
          ]
        }
      ]
    },
    {
      "cell_type": "code",
      "source": [
        "list1 = [10, 20, 30, 40, 50]\n",
        "list2 = list1[::-1]\n",
        "# for i in range(len(list1)-1, -1, -1):\n",
        "# list2.append(list1[i])\n",
        "print(list2)"
      ],
      "metadata": {
        "colab": {
          "base_uri": "https://localhost:8080/"
        },
        "id": "5maw6LhHW_I2",
        "outputId": "69dbda09-be04-4308-dff1-4bbd0d528882"
      },
      "id": "5maw6LhHW_I2",
      "execution_count": null,
      "outputs": [
        {
          "output_type": "stream",
          "name": "stdout",
          "text": [
            "[50, 40, 30, 20, 10]\n"
          ]
        }
      ]
    },
    {
      "cell_type": "code",
      "source": [
        "a,b = map(int, input(\"Enter lower and upper limit\").split())\n",
        "def is_prime(a):\n",
        " c=0\n",
        " for i in range(2,a//2):\n",
        "  if(a%i==0):\n",
        "    c=c+1\n",
        " if c==0:return True\n",
        " else:return False\n",
        "for i in range(a,b+1):\n",
        " if is_prime(i):\n",
        "  print(i, end=\" \")  "
      ],
      "metadata": {
        "colab": {
          "base_uri": "https://localhost:8080/"
        },
        "id": "m_LhQFCmXBZE",
        "outputId": "d348bbf7-7086-4084-be92-fe38c22acaf3"
      },
      "id": "m_LhQFCmXBZE",
      "execution_count": null,
      "outputs": [
        {
          "output_type": "stream",
          "name": "stdout",
          "text": [
            "Enter lower and upper limit4 90\n",
            "4 5 7 11 13 17 19 23 29 31 37 41 43 47 53 59 61 67 71 73 79 83 89 "
          ]
        }
      ]
    },
    {
      "cell_type": "code",
      "source": [
        "a = int(input(\"Enter a number\"))\n",
        "ans=1\n",
        "for i in range(1,a+1):\n",
        " ans = ans*i\n",
        "print(ans)"
      ],
      "metadata": {
        "colab": {
          "base_uri": "https://localhost:8080/"
        },
        "id": "oDpmQjpBXDur",
        "outputId": "4ad7a807-68f2-41d8-def9-241353527cf8"
      },
      "id": "oDpmQjpBXDur",
      "execution_count": null,
      "outputs": [
        {
          "output_type": "stream",
          "name": "stdout",
          "text": [
            "Enter a number25\n",
            "15511210043330985984000000\n"
          ]
        }
      ]
    },
    {
      "cell_type": "markdown",
      "source": [
        "Assignment 3\n"
      ],
      "metadata": {
        "id": "IhtHOvxoYePS"
      },
      "id": "IhtHOvxoYePS"
    },
    {
      "cell_type": "code",
      "source": [
        "num1=int(input(\"Enter first number: \"));\n",
        "\n",
        "num2=int(input(\"Enter second number: \"));\n",
        "\n",
        "num3=int(input(\"Enter Third number: \"));\n",
        "\n",
        "def max():\n",
        "\n",
        "    if(num1>=num2) and (num1>=num3):\n",
        "\n",
        "        l=num1\n",
        "\n",
        "    elif(num2>=num1) and (num2>=num3):\n",
        "\n",
        "         l=num2\n",
        "\n",
        "    else:\n",
        "\n",
        "         l=num3\n",
        "\n",
        "    print(\"Largest number among  the three is\",l)\n",
        "\n",
        "max()"
      ],
      "metadata": {
        "id": "R4Wi4RFHYiA7",
        "colab": {
          "base_uri": "https://localhost:8080/",
          "height": 0
        },
        "outputId": "36001bba-9721-4cc0-d404-e9ca150b0dfe"
      },
      "id": "R4Wi4RFHYiA7",
      "execution_count": 2,
      "outputs": [
        {
          "output_type": "stream",
          "name": "stdout",
          "text": [
            "Enter first number: 45\n",
            "Enter second number: 32\n",
            "Enter Third number: 25\n",
            "Largest number among  the three is 45\n"
          ]
        }
      ]
    },
    {
      "cell_type": "code",
      "source": [
        "\n",
        "def sum(numbers):\n",
        "\n",
        "   total = 0\n",
        "\n",
        "   for x in numbers:\n",
        "\n",
        "       total += x\n",
        "\n",
        "   return total\n",
        "\n",
        "print(sum((8, 2, 3, 0, 7)))"
      ],
      "metadata": {
        "colab": {
          "base_uri": "https://localhost:8080/",
          "height": 0
        },
        "id": "F-sLvSePaYsD",
        "outputId": "3ddab951-7b19-4cfb-bc6c-dbd48e880c24"
      },
      "id": "F-sLvSePaYsD",
      "execution_count": 8,
      "outputs": [
        {
          "output_type": "stream",
          "name": "stdout",
          "text": [
            "20\n"
          ]
        }
      ]
    },
    {
      "cell_type": "code",
      "source": [
        "\n",
        "def mul(numbers):\n",
        "\n",
        "   total = 1\n",
        "\n",
        "   for x in numbers:\n",
        "\n",
        "       total *= x\n",
        "\n",
        "   return total\n",
        "\n",
        "print(mul((8, 2, 3, -1, 7)))"
      ],
      "metadata": {
        "colab": {
          "base_uri": "https://localhost:8080/",
          "height": 0
        },
        "id": "UyR8YaJvaxUO",
        "outputId": "32265918-4276-4fc1-bba9-1e7c3a52dab3"
      },
      "id": "UyR8YaJvaxUO",
      "execution_count": 11,
      "outputs": [
        {
          "output_type": "stream",
          "name": "stdout",
          "text": [
            "-336\n"
          ]
        }
      ]
    },
    {
      "cell_type": "code",
      "source": [
        "def reverse(str):\n",
        "    string = \" \"\n",
        "    for i in str:\n",
        "        string = i + string\n",
        "    return string\n",
        "str = \"1234abcd\"\n",
        "print(\"The original string is:\",str)\n",
        "print(\"The reverse string is:\", reverse(str)) "
      ],
      "metadata": {
        "colab": {
          "base_uri": "https://localhost:8080/",
          "height": 0
        },
        "id": "Jy_YvgnKbpiZ",
        "outputId": "706d30b3-4fb9-42ad-ff04-ce42428c419c"
      },
      "id": "Jy_YvgnKbpiZ",
      "execution_count": 12,
      "outputs": [
        {
          "output_type": "stream",
          "name": "stdout",
          "text": [
            "The original string is: 1234abcd\n",
            "The reverse string is: dcba4321 \n"
          ]
        }
      ]
    },
    {
      "cell_type": "code",
      "source": [
        "def factorial(n):\n",
        "    if n == 0:\n",
        "        return 1\n",
        "    else:\n",
        "        return n * factorial(n-1)\n",
        "n=int(input(\"Input: \"))\n",
        "print(factorial(n))"
      ],
      "metadata": {
        "colab": {
          "base_uri": "https://localhost:8080/",
          "height": 0
        },
        "id": "Bjj0R7TpcH3y",
        "outputId": "c0bbcb17-cca0-4da0-91d4-da98b10d561e"
      },
      "id": "Bjj0R7TpcH3y",
      "execution_count": 14,
      "outputs": [
        {
          "output_type": "stream",
          "name": "stdout",
          "text": [
            "Input: 5\n",
            "120\n"
          ]
        }
      ]
    },
    {
      "cell_type": "code",
      "source": [
        "def string_test(s):\n",
        "    d={\"UPPER_CASE\":0, \"LOWER_CASE\":0}\n",
        "    for c in s:\n",
        "        if c.isupper():\n",
        "           d[\"UPPER_CASE\"]+=1\n",
        "        elif c.islower():\n",
        "           d[\"LOWER_CASE\"]+=1\n",
        "        else:\n",
        "           pass\n",
        "    print (\"Original String : \", s)\n",
        "    print (\"No. of Upper case characters : \", d[\"UPPER_CASE\"])\n",
        "    print (\"No. of Lower case Characters : \", d[\"LOWER_CASE\"])\n",
        "\n",
        "string_test('The quick Brow Fox')"
      ],
      "metadata": {
        "colab": {
          "base_uri": "https://localhost:8080/",
          "height": 0
        },
        "id": "A9jQv_6mcW2l",
        "outputId": "068df981-11a8-4a2f-d8c6-ec96b8a9cdea"
      },
      "id": "A9jQv_6mcW2l",
      "execution_count": 16,
      "outputs": [
        {
          "output_type": "stream",
          "name": "stdout",
          "text": [
            "Original String :  The quick Brow Fox\n",
            "No. of Upper case characters :  3\n",
            "No. of Lower case Characters :  12\n"
          ]
        }
      ]
    },
    {
      "cell_type": "code",
      "source": [
        "def test_prime(n):\n",
        "    if (n==1):\n",
        "        return False\n",
        "    elif (n==2):\n",
        "        return True;\n",
        "    else:\n",
        "        for x in range(2,n):\n",
        "            if(n % x==0):\n",
        "                return False\n",
        "        return True             \n",
        "print(test_prime(9))"
      ],
      "metadata": {
        "colab": {
          "base_uri": "https://localhost:8080/",
          "height": 0
        },
        "id": "ktMjiqULckoy",
        "outputId": "c0bf4d63-e033-40a2-932d-ea61f23641c2"
      },
      "id": "ktMjiqULckoy",
      "execution_count": 17,
      "outputs": [
        {
          "output_type": "stream",
          "name": "stdout",
          "text": [
            "False\n"
          ]
        }
      ]
    },
    {
      "cell_type": "code",
      "source": [
        "items=[n for n in input().split('-')]\n",
        "items.sort()\n",
        "print('-'.join(items))"
      ],
      "metadata": {
        "colab": {
          "base_uri": "https://localhost:8080/",
          "height": 0
        },
        "id": "H87ER77Idf8X",
        "outputId": "5415e2b7-4ce4-4f87-98dc-163ee39f35b4"
      },
      "id": "H87ER77Idf8X",
      "execution_count": 18,
      "outputs": [
        {
          "output_type": "stream",
          "name": "stdout",
          "text": [
            "green-red-yellow-black-white\n",
            "black-green-red-white-yellow\n"
          ]
        }
      ]
    },
    {
      "cell_type": "code",
      "source": [
        "r = lambda a : a + 15\n",
        "print(r(10))\n",
        "r = lambda x, y : x * y\n",
        "print(r(12, 4))\n"
      ],
      "metadata": {
        "colab": {
          "base_uri": "https://localhost:8080/",
          "height": 0
        },
        "id": "nxOsz_oMdtZv",
        "outputId": "8968fff2-1e6c-4485-8f4d-80adf625ab6f"
      },
      "id": "nxOsz_oMdtZv",
      "execution_count": 19,
      "outputs": [
        {
          "output_type": "stream",
          "name": "stdout",
          "text": [
            "25\n",
            "48\n"
          ]
        }
      ]
    },
    {
      "cell_type": "code",
      "source": [
        "numbers = [1, 2, 3, 4, 5, 6, 7, 8, 9, 10]\n",
        "print(\"Original list:\")\n",
        "print(numbers)\n",
        "print(\"\\nEven numbers from the list:\")\n",
        "even_nums = list(filter(lambda x: x%2 == 0, numbers))\n",
        "print(even_nums)\n",
        "print(\"\\nOdd numbers from the list:\")\n",
        "odd_nums = list(filter(lambda x: x%2 != 0, numbers))\n",
        "print(odd_nums)"
      ],
      "metadata": {
        "colab": {
          "base_uri": "https://localhost:8080/",
          "height": 0
        },
        "id": "ALGbfytId4H9",
        "outputId": "0a94ee3e-b69d-484d-c085-de9a15071185"
      },
      "id": "ALGbfytId4H9",
      "execution_count": 21,
      "outputs": [
        {
          "output_type": "stream",
          "name": "stdout",
          "text": [
            "Original list:\n",
            "[1, 2, 3, 4, 5, 6, 7, 8, 9, 10]\n",
            "\n",
            "Even numbers from the list:\n",
            "[2, 4, 6, 8, 10]\n",
            "\n",
            "Odd numbers from the list:\n",
            "[1, 3, 5, 7, 9]\n"
          ]
        }
      ]
    },
    {
      "cell_type": "code",
      "source": [
        "students = []\n",
        "sec_name = []\n",
        "second_low = 0\n",
        "n = int(input(\"number of students: \"))\n",
        "for _ in range(n):\n",
        "   s_name = input(\"Name: \")\n",
        "   score = float(input(\"Grade: \"))\n",
        "   students.append([s_name,score])\n",
        "print(\"\\nNames and Grades of all students:\")\n",
        "print(students)\n",
        "order =sorted(students, key = lambda x: int(x[1]))\n",
        "for i in range(n):\n",
        "   if order[i][1] != order[0][1]:\n",
        "       second_low = order[i][1]\n",
        "       break\n",
        "print(\"\\nSecond lowest grade: \",second_low)\n",
        "sec_student_name = [x[0] for x in order if x[1] == second_low]\n",
        "sec_student_name.sort()\n",
        "print(\"\\nNames:\")\n",
        "for s_name in sec_student_name:\n",
        "   print(s_name)"
      ],
      "metadata": {
        "colab": {
          "base_uri": "https://localhost:8080/",
          "height": 0
        },
        "id": "fSmvFs6_eEKQ",
        "outputId": "46ebdd8f-ccd9-406e-fc31-a89f5e538820"
      },
      "id": "fSmvFs6_eEKQ",
      "execution_count": 24,
      "outputs": [
        {
          "output_type": "stream",
          "name": "stdout",
          "text": [
            "number of students: 3\n",
            "Name: dhanya\n",
            "Grade: 10\n",
            "Name: mohans\n",
            "Grade: 9\n",
            "Name: sash\n",
            "Grade: 8\n",
            "\n",
            "Names and Grades of all students:\n",
            "[['dhanya', 10.0], ['mohans', 9.0], ['sash', 8.0]]\n",
            "\n",
            "Second lowest grade:  9.0\n",
            "\n",
            "Names:\n",
            "mohans\n"
          ]
        }
      ]
    },
    {
      "cell_type": "code",
      "source": [
        "num1 = [1, 2, 3] \n",
        "num2 = [4, 5, 6] \n",
        "num3 = [7, 8, 9] \n",
        "print(\"Original list: \")\n",
        "print(num1)  \n",
        "print(num2)  \n",
        "print(num3)  \n",
        "result = map(lambda x, y, z: x + y + z, num1, num2, num3) \n",
        "print(\"\\nNew list after adding above three lists:\")\n",
        "print(list(result))"
      ],
      "metadata": {
        "colab": {
          "base_uri": "https://localhost:8080/",
          "height": 0
        },
        "id": "rGWyc-GneNVQ",
        "outputId": "5fd1f83a-3c9e-47e5-9ee6-203f02ea8f2e"
      },
      "id": "rGWyc-GneNVQ",
      "execution_count": 25,
      "outputs": [
        {
          "output_type": "stream",
          "name": "stdout",
          "text": [
            "Original list: \n",
            "[1, 2, 3]\n",
            "[4, 5, 6]\n",
            "[7, 8, 9]\n",
            "\n",
            "New list after adding above three lists:\n",
            "[12, 15, 18]\n"
          ]
        }
      ]
    },
    {
      "cell_type": "code",
      "source": [
        "def list_of_dicts(marks):\n",
        "    result = map(dict, zip(*[[(key, val) for val in value] for key, value in marks.items()]))\n",
        "    return list(result)\n",
        "marks = {'Science': [88, 89, 62, 95], 'Language': [77, 78, 84, 80]}\n",
        "print(\"Original dictionary of lists:\")\n",
        "print(marks)\n",
        "print(\"\\nSplit said dictionary of lists into list of dictionaries:\")\n",
        "print(list_of_dicts(marks))"
      ],
      "metadata": {
        "colab": {
          "base_uri": "https://localhost:8080/",
          "height": 0
        },
        "id": "N-e_1skQeq5x",
        "outputId": "78c70b35-ed30-4cff-c4a5-f3f42c20fbbf"
      },
      "id": "N-e_1skQeq5x",
      "execution_count": 31,
      "outputs": [
        {
          "output_type": "stream",
          "name": "stdout",
          "text": [
            "Original dictionary of lists:\n",
            "{'Science': [88, 89, 62, 95], 'Language': [77, 78, 84, 80]}\n",
            "\n",
            "Split said dictionary of lists into list of dictionaries:\n",
            "[{'Science': 88, 'Language': 77}, {'Science': 89, 'Language': 78}, {'Science': 62, 'Language': 84}, {'Science': 95, 'Language': 80}]\n"
          ]
        }
      ]
    },
    {
      "cell_type": "markdown",
      "source": [
        "Assignment 4"
      ],
      "metadata": {
        "id": "EYjwlbc4imKx"
      },
      "id": "EYjwlbc4imKx"
    },
    {
      "cell_type": "code",
      "source": [
        "with open(\"/content/data.txt\") as f:\n",
        "    content_list = f.readlines()\n",
        "\n",
        "# print the list\n",
        "print(content_list)\n",
        "\n",
        "# remove new line characters\n",
        "content_list = [x.strip() for x in content_list]\n",
        "print(content_list)"
      ],
      "metadata": {
        "colab": {
          "base_uri": "https://localhost:8080/",
          "height": 0
        },
        "id": "yoBlmV3iiwvV",
        "outputId": "6f8434b9-a18c-4f18-e74d-75266b6dad6d"
      },
      "id": "yoBlmV3iiwvV",
      "execution_count": 34,
      "outputs": [
        {
          "output_type": "stream",
          "name": "stdout",
          "text": [
            "['hi i am dhanya \\n', 'i am from chennai']\n",
            "['hi i am dhanya', 'i am from chennai']\n"
          ]
        }
      ]
    },
    {
      "cell_type": "code",
      "source": [
        "file = open(\"data.txt\",\"r\")\n",
        "lines = 0\n",
        "\n",
        "a = file.read()\n",
        "fList = a.split(\"\\n\")\n",
        "  \n",
        "for i in fList:\n",
        "    if i:\n",
        "        lines += 1\n",
        "          \n",
        "print(\"This is the number of lines in the file\")\n",
        "print(lines)"
      ],
      "metadata": {
        "colab": {
          "base_uri": "https://localhost:8080/",
          "height": 0
        },
        "id": "hK5QV26PlHzC",
        "outputId": "6fe5e166-dc6d-43e3-be64-d218e2db3f6f"
      },
      "id": "hK5QV26PlHzC",
      "execution_count": 42,
      "outputs": [
        {
          "output_type": "stream",
          "name": "stdout",
          "text": [
            "This is the number of lines in the file\n",
            "2\n"
          ]
        }
      ]
    },
    {
      "cell_type": "code",
      "source": [
        "def count_words(filepath):\n",
        "   with open(filepath) as f:\n",
        "       data = f.read()\n",
        "       data.replace(\",\", \" \")\n",
        "       return len(data.split(\" \"))\n",
        "print(count_words(\"data.txt\"))\n"
      ],
      "metadata": {
        "colab": {
          "base_uri": "https://localhost:8080/",
          "height": 0
        },
        "id": "ItCGB6zNlub-",
        "outputId": "679e4a41-8731-456d-c9ea-c6fe4f65a22d"
      },
      "id": "ItCGB6zNlub-",
      "execution_count": 43,
      "outputs": [
        {
          "output_type": "stream",
          "name": "stdout",
          "text": [
            "8\n"
          ]
        }
      ]
    },
    {
      "cell_type": "code",
      "source": [
        ""
      ],
      "metadata": {
        "id": "YTr2eTYunZMV"
      },
      "id": "YTr2eTYunZMV",
      "execution_count": null,
      "outputs": []
    }
  ],
  "metadata": {
    "kernelspec": {
      "display_name": "Python 3 (ipykernel)",
      "language": "python",
      "name": "python3"
    },
    "language_info": {
      "codemirror_mode": {
        "name": "ipython",
        "version": 3
      },
      "file_extension": ".py",
      "mimetype": "text/x-python",
      "name": "python",
      "nbconvert_exporter": "python",
      "pygments_lexer": "ipython3",
      "version": "3.10.0"
    },
    "colab": {
      "name": "python.ipynb",
      "provenance": [],
      "include_colab_link": true
    }
  },
  "nbformat": 4,
  "nbformat_minor": 5
}